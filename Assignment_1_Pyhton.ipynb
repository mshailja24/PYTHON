{
 "cells": [
  {
   "cell_type": "markdown",
   "id": "366ce440",
   "metadata": {},
   "source": [
    "# PROGRAM TO FIND FACTORIAL OF A NUMBER"
   ]
  },
  {
   "cell_type": "code",
   "execution_count": 1,
   "id": "1b29fcd9",
   "metadata": {},
   "outputs": [
    {
     "name": "stdout",
     "output_type": "stream",
     "text": [
      "enter a number:3\n",
      "factorial of 3 is 6\n"
     ]
    }
   ],
   "source": [
    "#Python program to find the factorial of a number provided by the user.\n",
    "num= int(input(\"enter a number:\"))\n",
    "fac= 1\n",
    "for i in range(1,num+1):\n",
    "    fac=fac*i\n",
    "print(\"factorial of\",num,\"is\",fac)  "
   ]
  },
  {
   "cell_type": "markdown",
   "id": "32fab5e3",
   "metadata": {},
   "source": [
    "# Program to find whether a number is prime or composite"
   ]
  },
  {
   "cell_type": "code",
   "execution_count": 2,
   "id": "31987729",
   "metadata": {},
   "outputs": [
    {
     "name": "stdout",
     "output_type": "stream",
     "text": [
      "Enter any number:6\n",
      "6 is not prime but composite number\n"
     ]
    }
   ],
   "source": [
    "n= int(input(\"Enter any number:\"))\n",
    "if (n==0 or n==1):\n",
    "    printf(n,\"Number is neither prime nor composite\")\n",
    "elif n>1 :\n",
    "    for i in range(2,n):\n",
    "        if(n%i == 0):\n",
    "            print(n,\"is not prime but composite number\")\n",
    "            break\n",
    "    else:\n",
    "        print(n,\"number is prime but not composite number\")\n",
    "else:\n",
    "        print(\"Please enter positive number only \")\n",
    "    \n",
    "\n"
   ]
  },
  {
   "cell_type": "markdown",
   "id": "473894a1",
   "metadata": {},
   "source": [
    "# Program to check whether a given string is palindrome or not."
   ]
  },
  {
   "cell_type": "code",
   "execution_count": 5,
   "id": "94669322",
   "metadata": {},
   "outputs": [
    {
     "name": "stdout",
     "output_type": "stream",
     "text": [
      "Yes\n"
     ]
    }
   ],
   "source": [
    "def isPalindrome(a):\n",
    "    return a == a[::-1]\n",
    "a = \"malayalam\"\n",
    "ans = isPalindrome(a)\n",
    "\n",
    "if ans:\n",
    "    print(\"Yes\")\n",
    "else:\n",
    "    print(\"No\")"
   ]
  },
  {
   "cell_type": "markdown",
   "id": "ed0ec7e1",
   "metadata": {},
   "source": [
    "# Program to get the third side of right-angled triangle from two given sides."
   ]
  },
  {
   "cell_type": "code",
   "execution_count": 6,
   "id": "0f965774",
   "metadata": {},
   "outputs": [
    {
     "name": "stdout",
     "output_type": "stream",
     "text": [
      "Enter base: 3\n",
      "Enter height: 4\n",
      "Enter angle: 60\n",
      "Hypotenuse = 5.0\n"
     ]
    }
   ],
   "source": [
    "import math\n",
    "a = float(input(\"Enter base: \"))\n",
    "b = float(input(\"Enter height: \"))\n",
    "x = float(input(\"Enter angle: \"))\n",
    "\n",
    "c = math.sqrt(a ** 2 + b ** 2)\n",
    "\n",
    "print(\"Hypotenuse =\", c)"
   ]
  },
  {
   "cell_type": "markdown",
   "id": "c5eb71aa",
   "metadata": {},
   "source": [
    "# Program to print the frequency of each of the characters present in a given string"
   ]
  },
  {
   "cell_type": "code",
   "execution_count": 7,
   "id": "f4588e61",
   "metadata": {},
   "outputs": [
    {
     "name": "stdout",
     "output_type": "stream",
     "text": [
      "Enter the string: VTU BMW VTU\n",
      "{'V': 2, 'T': 2, 'U': 2, ' ': 2, 'B': 1, 'M': 1, 'W': 1}\n"
     ]
    }
   ],
   "source": [
    "string1 = input (\"Enter the string: \")\n",
    "d = dict()\n",
    "for c in string1:\n",
    "    d[c] = d.get(c, 0) + 1\n",
    "print(d)"
   ]
  },
  {
   "cell_type": "code",
   "execution_count": null,
   "id": "aef54517",
   "metadata": {},
   "outputs": [],
   "source": []
  }
 ],
 "metadata": {
  "kernelspec": {
   "display_name": "Python 3 (ipykernel)",
   "language": "python",
   "name": "python3"
  },
  "language_info": {
   "codemirror_mode": {
    "name": "ipython",
    "version": 3
   },
   "file_extension": ".py",
   "mimetype": "text/x-python",
   "name": "python",
   "nbconvert_exporter": "python",
   "pygments_lexer": "ipython3",
   "version": "3.9.7"
  }
 },
 "nbformat": 4,
 "nbformat_minor": 5
}
